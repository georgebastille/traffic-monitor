{
 "cells": [
  {
   "cell_type": "code",
   "execution_count": 1,
   "id": "88903e70-c085-4db7-a749-432f55012f6f",
   "metadata": {},
   "outputs": [
    {
     "name": "stdout",
     "output_type": "stream",
     "text": [
      "\u001b[2mAudited \u001b[1m1 package\u001b[0m \u001b[2min 10ms\u001b[0m\u001b[0m\n"
     ]
    }
   ],
   "source": [
    "!uv pip install googlemaps"
   ]
  },
  {
   "cell_type": "code",
   "execution_count": 2,
   "id": "fa7ea0f2-f3e0-4112-ae48-8639f60ec331",
   "metadata": {},
   "outputs": [],
   "source": [
    "import googlemaps\n",
    "GOOGLE_MAPS_API_KEY=...\n",
    "gmaps=googlemaps.Client(key=GOOGLE_MAPS_API_KEY)"
   ]
  },
  {
   "cell_type": "code",
   "execution_count": 7,
   "id": "27ded3b4-b50c-44d6-b7d7-62e223f3c3c1",
   "metadata": {},
   "outputs": [],
   "source": [
    "from datetime import time, datetime, timedelta\n",
    "origin = \"164 Devonshire Road, London, SE23 3SZ\"\n",
    "destination = \"Rosemead Preparatory School, Thurlow PArk Road, Dulwich, London\"\n",
    "\n",
    "result = gmaps.distance_matrix(\n",
    "     origin,\n",
    "     destination,\n",
    "     mode=\"driving\",\n",
    "     departure_time=\"now\",\n",
    "     traffic_model=\"best_guess\",\n",
    ")"
   ]
  },
  {
   "cell_type": "code",
   "execution_count": 8,
   "id": "702816f9-7ff1-410a-8e23-b6c5a2729598",
   "metadata": {},
   "outputs": [
    {
     "name": "stdout",
     "output_type": "stream",
     "text": [
      "{'destination_addresses': ['70 Thurlow Park Rd, Norwood, London SE21 8HZ, UK'], 'origin_addresses': ['164 Devonshire Rd, London SE23 3SZ, UK'], 'rows': [{'elements': [{'distance': {'text': '3.9 km', 'value': 3857}, 'duration': {'text': '11 mins', 'value': 636}, 'duration_in_traffic': {'text': '12 mins', 'value': 709}, 'status': 'OK'}]}], 'status': 'OK'}\n"
     ]
    }
   ],
   "source": [
    "print(result)"
   ]
  },
  {
   "cell_type": "code",
   "execution_count": 14,
   "id": "6aaea0fc-42e3-4499-a744-9dcdcf96a628",
   "metadata": {},
   "outputs": [
    {
     "ename": "HTTPError",
     "evalue": "HTTP Error: 400",
     "output_type": "error",
     "traceback": [
      "\u001b[31m---------------------------------------------------------------------------\u001b[39m",
      "\u001b[31mHTTPError\u001b[39m                                 Traceback (most recent call last)",
      "\u001b[36mCell\u001b[39m\u001b[36m \u001b[39m\u001b[32mIn[14]\u001b[39m\u001b[32m, line 5\u001b[39m\n\u001b[32m      1\u001b[39m thirty_mins_from_now = datetime.now() + timedelta(minutes=\u001b[32m300\u001b[39m)\n\u001b[32m      2\u001b[39m arrival_time = \u001b[38;5;28mint\u001b[39m(thirty_mins_from_now.timestamp())\n\u001b[32m----> \u001b[39m\u001b[32m5\u001b[39m directions_result = \u001b[43mgmaps\u001b[49m\u001b[43m.\u001b[49m\u001b[43mdistance_matrix\u001b[49m\u001b[43m(\u001b[49m\n\u001b[32m      6\u001b[39m \u001b[43m     \u001b[49m\u001b[43morigin\u001b[49m\u001b[43m,\u001b[49m\n\u001b[32m      7\u001b[39m \u001b[43m     \u001b[49m\u001b[43mdestination\u001b[49m\u001b[43m,\u001b[49m\n\u001b[32m      8\u001b[39m \u001b[43m     \u001b[49m\u001b[43mmode\u001b[49m\u001b[43m=\u001b[49m\u001b[33;43m\"\u001b[39;49m\u001b[33;43mdriving\u001b[39;49m\u001b[33;43m\"\u001b[39;49m\u001b[43m,\u001b[49m\n\u001b[32m      9\u001b[39m \u001b[43m     \u001b[49m\u001b[43marrival_time\u001b[49m\u001b[43m=\u001b[49m\u001b[33;43m\"\u001b[39;49m\u001b[33;43m16:00\u001b[39;49m\u001b[33;43m\"\u001b[39;49m\u001b[43m,\u001b[49m\n\u001b[32m     10\u001b[39m \u001b[43m     \u001b[49m\u001b[43mtraffic_model\u001b[49m\u001b[43m=\u001b[49m\u001b[33;43m\"\u001b[39;49m\u001b[33;43mpessimistic\u001b[39;49m\u001b[33;43m\"\u001b[39;49m\u001b[43m,\u001b[49m\n\u001b[32m     11\u001b[39m \u001b[43m \u001b[49m\u001b[43m)\u001b[49m\n\u001b[32m     12\u001b[39m directions_result\n",
      "\u001b[36mFile \u001b[39m\u001b[32m~/traffic-monitor/notebooks/.venv/lib/python3.13/site-packages/googlemaps/client.py:445\u001b[39m, in \u001b[36mmake_api_method.<locals>.wrapper\u001b[39m\u001b[34m(*args, **kwargs)\u001b[39m\n\u001b[32m    442\u001b[39m \u001b[38;5;129m@functools\u001b[39m.wraps(func)\n\u001b[32m    443\u001b[39m \u001b[38;5;28;01mdef\u001b[39;00m\u001b[38;5;250m \u001b[39m\u001b[34mwrapper\u001b[39m(*args, **kwargs):\n\u001b[32m    444\u001b[39m     args[\u001b[32m0\u001b[39m]._extra_params = kwargs.pop(\u001b[33m\"\u001b[39m\u001b[33mextra_params\u001b[39m\u001b[33m\"\u001b[39m, \u001b[38;5;28;01mNone\u001b[39;00m)\n\u001b[32m--> \u001b[39m\u001b[32m445\u001b[39m     result = \u001b[43mfunc\u001b[49m\u001b[43m(\u001b[49m\u001b[43m*\u001b[49m\u001b[43margs\u001b[49m\u001b[43m,\u001b[49m\u001b[43m \u001b[49m\u001b[43m*\u001b[49m\u001b[43m*\u001b[49m\u001b[43mkwargs\u001b[49m\u001b[43m)\u001b[49m\n\u001b[32m    446\u001b[39m     \u001b[38;5;28;01mtry\u001b[39;00m:\n\u001b[32m    447\u001b[39m         \u001b[38;5;28;01mdel\u001b[39;00m args[\u001b[32m0\u001b[39m]._extra_params\n",
      "\u001b[36mFile \u001b[39m\u001b[32m~/traffic-monitor/notebooks/.venv/lib/python3.13/site-packages/googlemaps/distance_matrix.py:139\u001b[39m, in \u001b[36mdistance_matrix\u001b[39m\u001b[34m(client, origins, destinations, mode, language, avoid, units, departure_time, arrival_time, transit_mode, transit_routing_preference, traffic_model, region)\u001b[39m\n\u001b[32m    136\u001b[39m \u001b[38;5;28;01mif\u001b[39;00m region:\n\u001b[32m    137\u001b[39m     params[\u001b[33m\"\u001b[39m\u001b[33mregion\u001b[39m\u001b[33m\"\u001b[39m] = region\n\u001b[32m--> \u001b[39m\u001b[32m139\u001b[39m \u001b[38;5;28;01mreturn\u001b[39;00m \u001b[43mclient\u001b[49m\u001b[43m.\u001b[49m\u001b[43m_request\u001b[49m\u001b[43m(\u001b[49m\u001b[33;43m\"\u001b[39;49m\u001b[33;43m/maps/api/distancematrix/json\u001b[39;49m\u001b[33;43m\"\u001b[39;49m\u001b[43m,\u001b[49m\u001b[43m \u001b[49m\u001b[43mparams\u001b[49m\u001b[43m)\u001b[49m\n",
      "\u001b[36mFile \u001b[39m\u001b[32m~/traffic-monitor/notebooks/.venv/lib/python3.13/site-packages/googlemaps/client.py:340\u001b[39m, in \u001b[36mClient._request\u001b[39m\u001b[34m(self, url, params, first_request_time, retry_counter, base_url, accepts_clientid, extract_body, requests_kwargs, post_json)\u001b[39m\n\u001b[32m    338\u001b[39m     result = extract_body(response)\n\u001b[32m    339\u001b[39m \u001b[38;5;28;01melse\u001b[39;00m:\n\u001b[32m--> \u001b[39m\u001b[32m340\u001b[39m     result = \u001b[38;5;28;43mself\u001b[39;49m\u001b[43m.\u001b[49m\u001b[43m_get_body\u001b[49m\u001b[43m(\u001b[49m\u001b[43mresponse\u001b[49m\u001b[43m)\u001b[49m\n\u001b[32m    341\u001b[39m \u001b[38;5;28mself\u001b[39m.sent_times.append(time.time())\n\u001b[32m    342\u001b[39m \u001b[38;5;28;01mreturn\u001b[39;00m result\n",
      "\u001b[36mFile \u001b[39m\u001b[32m~/traffic-monitor/notebooks/.venv/lib/python3.13/site-packages/googlemaps/client.py:357\u001b[39m, in \u001b[36mClient._get_body\u001b[39m\u001b[34m(self, response)\u001b[39m\n\u001b[32m    355\u001b[39m \u001b[38;5;28;01mdef\u001b[39;00m\u001b[38;5;250m \u001b[39m\u001b[34m_get_body\u001b[39m(\u001b[38;5;28mself\u001b[39m, response):\n\u001b[32m    356\u001b[39m     \u001b[38;5;28;01mif\u001b[39;00m response.status_code != \u001b[32m200\u001b[39m:\n\u001b[32m--> \u001b[39m\u001b[32m357\u001b[39m         \u001b[38;5;28;01mraise\u001b[39;00m googlemaps.exceptions.HTTPError(response.status_code)\n\u001b[32m    359\u001b[39m     body = response.json()\n\u001b[32m    361\u001b[39m     api_status = body[\u001b[33m\"\u001b[39m\u001b[33mstatus\u001b[39m\u001b[33m\"\u001b[39m]\n",
      "\u001b[31mHTTPError\u001b[39m: HTTP Error: 400"
     ]
    }
   ],
   "source": [
    "thirty_mins_from_now = datetime.now() + timedelta(minutes=300)\n",
    "arrival_time = int(thirty_mins_from_now.timestamp())\n",
    "\n",
    "\n",
    "directions_result = gmaps.distance_matrix(\n",
    "     origin,\n",
    "     destination,\n",
    "     mode=\"driving\",\n",
    "     arrival_time=\"16:00\",\n",
    "     traffic_model=\"pessimistic\",\n",
    " )\n",
    "directions_result"
   ]
  },
  {
   "cell_type": "code",
   "execution_count": null,
   "id": "2b5c9446-4270-491a-924d-4ae5eca38c9e",
   "metadata": {},
   "outputs": [],
   "source": []
  }
 ],
 "metadata": {
  "kernelspec": {
   "display_name": "Python 3 (ipykernel)",
   "language": "python",
   "name": "python3"
  },
  "language_info": {
   "codemirror_mode": {
    "name": "ipython",
    "version": 3
   },
   "file_extension": ".py",
   "mimetype": "text/x-python",
   "name": "python",
   "nbconvert_exporter": "python",
   "pygments_lexer": "ipython3",
   "version": "3.13.7"
  }
 },
 "nbformat": 4,
 "nbformat_minor": 5
}
